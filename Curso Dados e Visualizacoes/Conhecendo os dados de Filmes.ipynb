{
 "cells": [
  {
   "cell_type": "code",
   "execution_count": 1,
   "metadata": {},
   "outputs": [],
   "source": [
    "import pandas as pd"
   ]
  },
  {
   "cell_type": "code",
   "execution_count": 2,
   "metadata": {},
   "outputs": [
    {
     "data": {
      "text/html": [
       "<div>\n",
       "<style scoped>\n",
       "    .dataframe tbody tr th:only-of-type {\n",
       "        vertical-align: middle;\n",
       "    }\n",
       "\n",
       "    .dataframe tbody tr th {\n",
       "        vertical-align: top;\n",
       "    }\n",
       "\n",
       "    .dataframe thead th {\n",
       "        text-align: right;\n",
       "    }\n",
       "</style>\n",
       "<table border=\"1\" class=\"dataframe\">\n",
       "  <thead>\n",
       "    <tr style=\"text-align: right;\">\n",
       "      <th></th>\n",
       "      <th>userId</th>\n",
       "      <th>movieId</th>\n",
       "      <th>rating</th>\n",
       "      <th>timestamp</th>\n",
       "    </tr>\n",
       "  </thead>\n",
       "  <tbody>\n",
       "    <tr>\n",
       "      <th>0</th>\n",
       "      <td>1</td>\n",
       "      <td>2</td>\n",
       "      <td>3.5</td>\n",
       "      <td>1112486027</td>\n",
       "    </tr>\n",
       "    <tr>\n",
       "      <th>1</th>\n",
       "      <td>1</td>\n",
       "      <td>29</td>\n",
       "      <td>3.5</td>\n",
       "      <td>1112484676</td>\n",
       "    </tr>\n",
       "    <tr>\n",
       "      <th>2</th>\n",
       "      <td>1</td>\n",
       "      <td>32</td>\n",
       "      <td>3.5</td>\n",
       "      <td>1112484819</td>\n",
       "    </tr>\n",
       "    <tr>\n",
       "      <th>3</th>\n",
       "      <td>1</td>\n",
       "      <td>47</td>\n",
       "      <td>3.5</td>\n",
       "      <td>1112484727</td>\n",
       "    </tr>\n",
       "    <tr>\n",
       "      <th>4</th>\n",
       "      <td>1</td>\n",
       "      <td>50</td>\n",
       "      <td>3.5</td>\n",
       "      <td>1112484580</td>\n",
       "    </tr>\n",
       "    <tr>\n",
       "      <th>5</th>\n",
       "      <td>1</td>\n",
       "      <td>112</td>\n",
       "      <td>3.5</td>\n",
       "      <td>1094785740</td>\n",
       "    </tr>\n",
       "    <tr>\n",
       "      <th>6</th>\n",
       "      <td>1</td>\n",
       "      <td>151</td>\n",
       "      <td>4.0</td>\n",
       "      <td>1094785734</td>\n",
       "    </tr>\n",
       "    <tr>\n",
       "      <th>7</th>\n",
       "      <td>1</td>\n",
       "      <td>223</td>\n",
       "      <td>4.0</td>\n",
       "      <td>1112485573</td>\n",
       "    </tr>\n",
       "    <tr>\n",
       "      <th>8</th>\n",
       "      <td>1</td>\n",
       "      <td>253</td>\n",
       "      <td>4.0</td>\n",
       "      <td>1112484940</td>\n",
       "    </tr>\n",
       "    <tr>\n",
       "      <th>9</th>\n",
       "      <td>1</td>\n",
       "      <td>260</td>\n",
       "      <td>4.0</td>\n",
       "      <td>1112484826</td>\n",
       "    </tr>\n",
       "  </tbody>\n",
       "</table>\n",
       "</div>"
      ],
      "text/plain": [
       "   userId  movieId  rating   timestamp\n",
       "0       1        2     3.5  1112486027\n",
       "1       1       29     3.5  1112484676\n",
       "2       1       32     3.5  1112484819\n",
       "3       1       47     3.5  1112484727\n",
       "4       1       50     3.5  1112484580\n",
       "5       1      112     3.5  1094785740\n",
       "6       1      151     4.0  1094785734\n",
       "7       1      223     4.0  1112485573\n",
       "8       1      253     4.0  1112484940\n",
       "9       1      260     4.0  1112484826"
      ]
     },
     "execution_count": 2,
     "metadata": {},
     "output_type": "execute_result"
    }
   ],
   "source": [
    "dadosRating = pd.read_csv('dados_filmes/ratings.csv')\n",
    "dadosRating.head(10)"
   ]
  },
  {
   "cell_type": "code",
   "execution_count": 3,
   "metadata": {},
   "outputs": [
    {
     "data": {
      "text/plain": [
       "(20000263, 4)"
      ]
     },
     "execution_count": 3,
     "metadata": {},
     "output_type": "execute_result"
    }
   ],
   "source": [
    "dadosRating.shape"
   ]
  },
  {
   "cell_type": "code",
   "execution_count": 4,
   "metadata": {},
   "outputs": [
    {
     "data": {
      "text/plain": [
       "array([3.5, 4. , 3. , 4.5, 5. , 2. , 1. , 2.5, 0.5, 1.5])"
      ]
     },
     "execution_count": 4,
     "metadata": {},
     "output_type": "execute_result"
    }
   ],
   "source": [
    "dadosRating['rating'].unique()"
   ]
  },
  {
   "cell_type": "code",
   "execution_count": 5,
   "metadata": {},
   "outputs": [
    {
     "data": {
      "text/plain": [
       "4.0    5561926\n",
       "3.0    4291193\n",
       "5.0    2898660\n",
       "3.5    2200156\n",
       "4.5    1534824\n",
       "2.0    1430997\n",
       "2.5     883398\n",
       "1.0     680732\n",
       "1.5     279252\n",
       "0.5     239125\n",
       "Name: rating, dtype: int64"
      ]
     },
     "execution_count": 5,
     "metadata": {},
     "output_type": "execute_result"
    }
   ],
   "source": [
    "dadosRating['rating'].value_counts()"
   ]
  },
  {
   "cell_type": "code",
   "execution_count": 6,
   "metadata": {},
   "outputs": [
    {
     "data": {
      "text/plain": [
       "3.5255285642993797"
      ]
     },
     "execution_count": 6,
     "metadata": {},
     "output_type": "execute_result"
    }
   ],
   "source": [
    "dadosRating['rating'].mean()"
   ]
  },
  {
   "cell_type": "code",
   "execution_count": 7,
   "metadata": {},
   "outputs": [
    {
     "data": {
      "text/plain": [
       "<matplotlib.axes._subplots.AxesSubplot at 0x1d380bdb978>"
      ]
     },
     "execution_count": 7,
     "metadata": {},
     "output_type": "execute_result"
    }
   ],
   "source": [
    "dadosRating['rating'].plot(kind = 'hist')"
   ]
  },
  {
   "cell_type": "code",
   "execution_count": 8,
   "metadata": {},
   "outputs": [
    {
     "data": {
      "text/plain": [
       "count    2.000026e+07\n",
       "mean     3.525529e+00\n",
       "std      1.051989e+00\n",
       "min      5.000000e-01\n",
       "25%      3.000000e+00\n",
       "50%      3.500000e+00\n",
       "75%      4.000000e+00\n",
       "max      5.000000e+00\n",
       "Name: rating, dtype: float64"
      ]
     },
     "execution_count": 8,
     "metadata": {},
     "output_type": "execute_result"
    }
   ],
   "source": [
    "dadosRating['rating'].describe()"
   ]
  },
  {
   "cell_type": "code",
   "execution_count": 9,
   "metadata": {},
   "outputs": [],
   "source": [
    "import seaborn as sbn"
   ]
  },
  {
   "cell_type": "code",
   "execution_count": 10,
   "metadata": {},
   "outputs": [
    {
     "data": {
      "text/plain": [
       "<matplotlib.axes._subplots.AxesSubplot at 0x1d381c8ef98>"
      ]
     },
     "execution_count": 10,
     "metadata": {},
     "output_type": "execute_result"
    },
    {
     "data": {
      "image/png": "[encoded data removed]",
      "text/plain": [
       "<Figure size 432x288 with 1 Axes>"
      ]
     },
     "metadata": {
      "needs_background": "light"
     },
     "output_type": "display_data"
    }
   ],
   "source": [
    "sbn.boxplot(dadosRating['rating'])"
   ]
  },
  {
   "cell_type": "code",
   "execution_count": 11,
   "metadata": {},
   "outputs": [
    {
     "data": {
      "text/html": [
       "<div>\n",
       "<style scoped>\n",
       "    .dataframe tbody tr th:only-of-type {\n",
       "        vertical-align: middle;\n",
       "    }\n",
       "\n",
       "    .dataframe tbody tr th {\n",
       "        vertical-align: top;\n",
       "    }\n",
       "\n",
       "    .dataframe thead th {\n",
       "        text-align: right;\n",
       "    }\n",
       "</style>\n",
       "<table border=\"1\" class=\"dataframe\">\n",
       "  <thead>\n",
       "    <tr style=\"text-align: right;\">\n",
       "      <th></th>\n",
       "      <th>movieId</th>\n",
       "      <th>title</th>\n",
       "      <th>genres</th>\n",
       "    </tr>\n",
       "  </thead>\n",
       "  <tbody>\n",
       "    <tr>\n",
       "      <th>0</th>\n",
       "      <td>1</td>\n",
       "      <td>Toy Story (1995)</td>\n",
       "      <td>Adventure|Animation|Children|Comedy|Fantasy</td>\n",
       "    </tr>\n",
       "    <tr>\n",
       "      <th>1</th>\n",
       "      <td>2</td>\n",
       "      <td>Jumanji (1995)</td>\n",
       "      <td>Adventure|Children|Fantasy</td>\n",
       "    </tr>\n",
       "    <tr>\n",
       "      <th>2</th>\n",
       "      <td>3</td>\n",
       "      <td>Grumpier Old Men (1995)</td>\n",
       "      <td>Comedy|Romance</td>\n",
       "    </tr>\n",
       "    <tr>\n",
       "      <th>3</th>\n",
       "      <td>4</td>\n",
       "      <td>Waiting to Exhale (1995)</td>\n",
       "      <td>Comedy|Drama|Romance</td>\n",
       "    </tr>\n",
       "    <tr>\n",
       "      <th>4</th>\n",
       "      <td>5</td>\n",
       "      <td>Father of the Bride Part II (1995)</td>\n",
       "      <td>Comedy</td>\n",
       "    </tr>\n",
       "    <tr>\n",
       "      <th>5</th>\n",
       "      <td>6</td>\n",
       "      <td>Heat (1995)</td>\n",
       "      <td>Action|Crime|Thriller</td>\n",
       "    </tr>\n",
       "    <tr>\n",
       "      <th>6</th>\n",
       "      <td>7</td>\n",
       "      <td>Sabrina (1995)</td>\n",
       "      <td>Comedy|Romance</td>\n",
       "    </tr>\n",
       "    <tr>\n",
       "      <th>7</th>\n",
       "      <td>8</td>\n",
       "      <td>Tom and Huck (1995)</td>\n",
       "      <td>Adventure|Children</td>\n",
       "    </tr>\n",
       "    <tr>\n",
       "      <th>8</th>\n",
       "      <td>9</td>\n",
       "      <td>Sudden Death (1995)</td>\n",
       "      <td>Action</td>\n",
       "    </tr>\n",
       "    <tr>\n",
       "      <th>9</th>\n",
       "      <td>10</td>\n",
       "      <td>GoldenEye (1995)</td>\n",
       "      <td>Action|Adventure|Thriller</td>\n",
       "    </tr>\n",
       "  </tbody>\n",
       "</table>\n",
       "</div>"
      ],
      "text/plain": [
       "   movieId                               title  \\\n",
       "0        1                    Toy Story (1995)   \n",
       "1        2                      Jumanji (1995)   \n",
       "2        3             Grumpier Old Men (1995)   \n",
       "3        4            Waiting to Exhale (1995)   \n",
       "4        5  Father of the Bride Part II (1995)   \n",
       "5        6                         Heat (1995)   \n",
       "6        7                      Sabrina (1995)   \n",
       "7        8                 Tom and Huck (1995)   \n",
       "8        9                 Sudden Death (1995)   \n",
       "9       10                    GoldenEye (1995)   \n",
       "\n",
       "                                        genres  \n",
       "0  Adventure|Animation|Children|Comedy|Fantasy  \n",
       "1                   Adventure|Children|Fantasy  \n",
       "2                               Comedy|Romance  \n",
       "3                         Comedy|Drama|Romance  \n",
       "4                                       Comedy  \n",
       "5                        Action|Crime|Thriller  \n",
       "6                               Comedy|Romance  \n",
       "7                           Adventure|Children  \n",
       "8                                       Action  \n",
       "9                    Action|Adventure|Thriller  "
      ]
     },
     "execution_count": 11,
     "metadata": {},
     "output_type": "execute_result"
    }
   ],
   "source": [
    "dadosFilmes = pd.read_csv('dados_filmes/movies.csv')\n",
    "dadosFilmes.head(10)"
   ]
  },
  {
   "cell_type": "code",
   "execution_count": 12,
   "metadata": {},
   "outputs": [
    {
     "data": {
      "text/html": [
       "<div>\n",
       "<style scoped>\n",
       "    .dataframe tbody tr th:only-of-type {\n",
       "        vertical-align: middle;\n",
       "    }\n",
       "\n",
       "    .dataframe tbody tr th {\n",
       "        vertical-align: top;\n",
       "    }\n",
       "\n",
       "    .dataframe thead th {\n",
       "        text-align: right;\n",
       "    }\n",
       "</style>\n",
       "<table border=\"1\" class=\"dataframe\">\n",
       "  <thead>\n",
       "    <tr style=\"text-align: right;\">\n",
       "      <th></th>\n",
       "      <th>userId</th>\n",
       "      <th>movieId</th>\n",
       "      <th>rating</th>\n",
       "      <th>timestamp</th>\n",
       "    </tr>\n",
       "  </thead>\n",
       "  <tbody>\n",
       "    <tr>\n",
       "      <th>236</th>\n",
       "      <td>3</td>\n",
       "      <td>1</td>\n",
       "      <td>4.0</td>\n",
       "      <td>944919407</td>\n",
       "    </tr>\n",
       "    <tr>\n",
       "      <th>517</th>\n",
       "      <td>6</td>\n",
       "      <td>1</td>\n",
       "      <td>5.0</td>\n",
       "      <td>858275452</td>\n",
       "    </tr>\n",
       "    <tr>\n",
       "      <th>817</th>\n",
       "      <td>8</td>\n",
       "      <td>1</td>\n",
       "      <td>4.0</td>\n",
       "      <td>833981871</td>\n",
       "    </tr>\n",
       "    <tr>\n",
       "      <th>922</th>\n",
       "      <td>10</td>\n",
       "      <td>1</td>\n",
       "      <td>4.0</td>\n",
       "      <td>943497887</td>\n",
       "    </tr>\n",
       "    <tr>\n",
       "      <th>960</th>\n",
       "      <td>11</td>\n",
       "      <td>1</td>\n",
       "      <td>4.5</td>\n",
       "      <td>1230858821</td>\n",
       "    </tr>\n",
       "    <tr>\n",
       "      <th>1464</th>\n",
       "      <td>12</td>\n",
       "      <td>1</td>\n",
       "      <td>4.0</td>\n",
       "      <td>859063718</td>\n",
       "    </tr>\n",
       "    <tr>\n",
       "      <th>1500</th>\n",
       "      <td>13</td>\n",
       "      <td>1</td>\n",
       "      <td>4.0</td>\n",
       "      <td>849082891</td>\n",
       "    </tr>\n",
       "    <tr>\n",
       "      <th>1562</th>\n",
       "      <td>14</td>\n",
       "      <td>1</td>\n",
       "      <td>4.5</td>\n",
       "      <td>1225311239</td>\n",
       "    </tr>\n",
       "    <tr>\n",
       "      <th>1854</th>\n",
       "      <td>16</td>\n",
       "      <td>1</td>\n",
       "      <td>3.0</td>\n",
       "      <td>990969772</td>\n",
       "    </tr>\n",
       "    <tr>\n",
       "      <th>2061</th>\n",
       "      <td>19</td>\n",
       "      <td>1</td>\n",
       "      <td>5.0</td>\n",
       "      <td>855176628</td>\n",
       "    </tr>\n",
       "    <tr>\n",
       "      <th>2302</th>\n",
       "      <td>22</td>\n",
       "      <td>1</td>\n",
       "      <td>3.0</td>\n",
       "      <td>994638157</td>\n",
       "    </tr>\n",
       "    <tr>\n",
       "      <th>2435</th>\n",
       "      <td>23</td>\n",
       "      <td>1</td>\n",
       "      <td>4.0</td>\n",
       "      <td>914458411</td>\n",
       "    </tr>\n",
       "    <tr>\n",
       "      <th>2537</th>\n",
       "      <td>24</td>\n",
       "      <td>1</td>\n",
       "      <td>4.0</td>\n",
       "      <td>994230149</td>\n",
       "    </tr>\n",
       "    <tr>\n",
       "      <th>3534</th>\n",
       "      <td>31</td>\n",
       "      <td>1</td>\n",
       "      <td>3.0</td>\n",
       "      <td>1424733487</td>\n",
       "    </tr>\n",
       "    <tr>\n",
       "      <th>3903</th>\n",
       "      <td>34</td>\n",
       "      <td>1</td>\n",
       "      <td>5.0</td>\n",
       "      <td>846509445</td>\n",
       "    </tr>\n",
       "    <tr>\n",
       "      <th>4305</th>\n",
       "      <td>39</td>\n",
       "      <td>1</td>\n",
       "      <td>5.0</td>\n",
       "      <td>859325696</td>\n",
       "    </tr>\n",
       "    <tr>\n",
       "      <th>4794</th>\n",
       "      <td>47</td>\n",
       "      <td>1</td>\n",
       "      <td>1.0</td>\n",
       "      <td>1239940397</td>\n",
       "    </tr>\n",
       "    <tr>\n",
       "      <th>5194</th>\n",
       "      <td>53</td>\n",
       "      <td>1</td>\n",
       "      <td>4.0</td>\n",
       "      <td>938948976</td>\n",
       "    </tr>\n",
       "    <tr>\n",
       "      <th>5400</th>\n",
       "      <td>54</td>\n",
       "      <td>1</td>\n",
       "      <td>4.0</td>\n",
       "      <td>974840421</td>\n",
       "    </tr>\n",
       "    <tr>\n",
       "      <th>6343</th>\n",
       "      <td>58</td>\n",
       "      <td>1</td>\n",
       "      <td>5.0</td>\n",
       "      <td>1144058408</td>\n",
       "    </tr>\n",
       "    <tr>\n",
       "      <th>7000</th>\n",
       "      <td>59</td>\n",
       "      <td>1</td>\n",
       "      <td>4.5</td>\n",
       "      <td>1380400521</td>\n",
       "    </tr>\n",
       "    <tr>\n",
       "      <th>7477</th>\n",
       "      <td>66</td>\n",
       "      <td>1</td>\n",
       "      <td>4.0</td>\n",
       "      <td>940421847</td>\n",
       "    </tr>\n",
       "    <tr>\n",
       "      <th>7627</th>\n",
       "      <td>69</td>\n",
       "      <td>1</td>\n",
       "      <td>4.0</td>\n",
       "      <td>866811171</td>\n",
       "    </tr>\n",
       "    <tr>\n",
       "      <th>8676</th>\n",
       "      <td>80</td>\n",
       "      <td>1</td>\n",
       "      <td>3.0</td>\n",
       "      <td>858458513</td>\n",
       "    </tr>\n",
       "    <tr>\n",
       "      <th>8724</th>\n",
       "      <td>82</td>\n",
       "      <td>1</td>\n",
       "      <td>5.0</td>\n",
       "      <td>1317331523</td>\n",
       "    </tr>\n",
       "    <tr>\n",
       "      <th>9031</th>\n",
       "      <td>84</td>\n",
       "      <td>1</td>\n",
       "      <td>5.0</td>\n",
       "      <td>832543433</td>\n",
       "    </tr>\n",
       "    <tr>\n",
       "      <th>9494</th>\n",
       "      <td>90</td>\n",
       "      <td>1</td>\n",
       "      <td>3.5</td>\n",
       "      <td>1127866527</td>\n",
       "    </tr>\n",
       "    <tr>\n",
       "      <th>9621</th>\n",
       "      <td>91</td>\n",
       "      <td>1</td>\n",
       "      <td>4.0</td>\n",
       "      <td>1111531562</td>\n",
       "    </tr>\n",
       "    <tr>\n",
       "      <th>10319</th>\n",
       "      <td>93</td>\n",
       "      <td>1</td>\n",
       "      <td>5.0</td>\n",
       "      <td>835037871</td>\n",
       "    </tr>\n",
       "    <tr>\n",
       "      <th>10425</th>\n",
       "      <td>96</td>\n",
       "      <td>1</td>\n",
       "      <td>3.5</td>\n",
       "      <td>1366893952</td>\n",
       "    </tr>\n",
       "    <tr>\n",
       "      <th>...</th>\n",
       "      <td>...</td>\n",
       "      <td>...</td>\n",
       "      <td>...</td>\n",
       "      <td>...</td>\n",
       "    </tr>\n",
       "    <tr>\n",
       "      <th>19991410</th>\n",
       "      <td>138424</td>\n",
       "      <td>1</td>\n",
       "      <td>5.0</td>\n",
       "      <td>863351563</td>\n",
       "    </tr>\n",
       "    <tr>\n",
       "      <th>19991726</th>\n",
       "      <td>138428</td>\n",
       "      <td>1</td>\n",
       "      <td>5.0</td>\n",
       "      <td>1029083968</td>\n",
       "    </tr>\n",
       "    <tr>\n",
       "      <th>19991918</th>\n",
       "      <td>138430</td>\n",
       "      <td>1</td>\n",
       "      <td>2.0</td>\n",
       "      <td>849702752</td>\n",
       "    </tr>\n",
       "    <tr>\n",
       "      <th>19991952</th>\n",
       "      <td>138431</td>\n",
       "      <td>1</td>\n",
       "      <td>5.0</td>\n",
       "      <td>846350688</td>\n",
       "    </tr>\n",
       "    <tr>\n",
       "      <th>19992028</th>\n",
       "      <td>138432</td>\n",
       "      <td>1</td>\n",
       "      <td>4.0</td>\n",
       "      <td>950562547</td>\n",
       "    </tr>\n",
       "    <tr>\n",
       "      <th>19992383</th>\n",
       "      <td>138436</td>\n",
       "      <td>1</td>\n",
       "      <td>3.5</td>\n",
       "      <td>1346195850</td>\n",
       "    </tr>\n",
       "    <tr>\n",
       "      <th>19992687</th>\n",
       "      <td>138437</td>\n",
       "      <td>1</td>\n",
       "      <td>4.0</td>\n",
       "      <td>1193454078</td>\n",
       "    </tr>\n",
       "    <tr>\n",
       "      <th>19993470</th>\n",
       "      <td>138439</td>\n",
       "      <td>1</td>\n",
       "      <td>4.0</td>\n",
       "      <td>1284224655</td>\n",
       "    </tr>\n",
       "    <tr>\n",
       "      <th>19993593</th>\n",
       "      <td>138441</td>\n",
       "      <td>1</td>\n",
       "      <td>5.0</td>\n",
       "      <td>940208243</td>\n",
       "    </tr>\n",
       "    <tr>\n",
       "      <th>19993776</th>\n",
       "      <td>138443</td>\n",
       "      <td>1</td>\n",
       "      <td>3.5</td>\n",
       "      <td>1231085297</td>\n",
       "    </tr>\n",
       "    <tr>\n",
       "      <th>19994065</th>\n",
       "      <td>138445</td>\n",
       "      <td>1</td>\n",
       "      <td>4.0</td>\n",
       "      <td>868182423</td>\n",
       "    </tr>\n",
       "    <tr>\n",
       "      <th>19994085</th>\n",
       "      <td>138446</td>\n",
       "      <td>1</td>\n",
       "      <td>5.0</td>\n",
       "      <td>1358982680</td>\n",
       "    </tr>\n",
       "    <tr>\n",
       "      <th>19994230</th>\n",
       "      <td>138448</td>\n",
       "      <td>1</td>\n",
       "      <td>5.0</td>\n",
       "      <td>834499794</td>\n",
       "    </tr>\n",
       "    <tr>\n",
       "      <th>19994728</th>\n",
       "      <td>138454</td>\n",
       "      <td>1</td>\n",
       "      <td>5.0</td>\n",
       "      <td>993161357</td>\n",
       "    </tr>\n",
       "    <tr>\n",
       "      <th>19995149</th>\n",
       "      <td>138456</td>\n",
       "      <td>1</td>\n",
       "      <td>1.0</td>\n",
       "      <td>1183781000</td>\n",
       "    </tr>\n",
       "    <tr>\n",
       "      <th>19995893</th>\n",
       "      <td>138459</td>\n",
       "      <td>1</td>\n",
       "      <td>2.0</td>\n",
       "      <td>1248918002</td>\n",
       "    </tr>\n",
       "    <tr>\n",
       "      <th>19996364</th>\n",
       "      <td>138464</td>\n",
       "      <td>1</td>\n",
       "      <td>4.0</td>\n",
       "      <td>1024810573</td>\n",
       "    </tr>\n",
       "    <tr>\n",
       "      <th>19996670</th>\n",
       "      <td>138467</td>\n",
       "      <td>1</td>\n",
       "      <td>4.0</td>\n",
       "      <td>951845624</td>\n",
       "    </tr>\n",
       "    <tr>\n",
       "      <th>19997120</th>\n",
       "      <td>138471</td>\n",
       "      <td>1</td>\n",
       "      <td>4.5</td>\n",
       "      <td>1355632490</td>\n",
       "    </tr>\n",
       "    <tr>\n",
       "      <th>19997263</th>\n",
       "      <td>138472</td>\n",
       "      <td>1</td>\n",
       "      <td>3.0</td>\n",
       "      <td>1194039433</td>\n",
       "    </tr>\n",
       "    <tr>\n",
       "      <th>19997615</th>\n",
       "      <td>138473</td>\n",
       "      <td>1</td>\n",
       "      <td>4.5</td>\n",
       "      <td>1274233803</td>\n",
       "    </tr>\n",
       "    <tr>\n",
       "      <th>19997705</th>\n",
       "      <td>138474</td>\n",
       "      <td>1</td>\n",
       "      <td>5.0</td>\n",
       "      <td>965928844</td>\n",
       "    </tr>\n",
       "    <tr>\n",
       "      <th>19998469</th>\n",
       "      <td>138477</td>\n",
       "      <td>1</td>\n",
       "      <td>3.0</td>\n",
       "      <td>1040084810</td>\n",
       "    </tr>\n",
       "    <tr>\n",
       "      <th>19998769</th>\n",
       "      <td>138480</td>\n",
       "      <td>1</td>\n",
       "      <td>4.0</td>\n",
       "      <td>855148037</td>\n",
       "    </tr>\n",
       "    <tr>\n",
       "      <th>19998790</th>\n",
       "      <td>138481</td>\n",
       "      <td>1</td>\n",
       "      <td>4.0</td>\n",
       "      <td>1112145561</td>\n",
       "    </tr>\n",
       "    <tr>\n",
       "      <th>19998860</th>\n",
       "      <td>138483</td>\n",
       "      <td>1</td>\n",
       "      <td>4.0</td>\n",
       "      <td>833831347</td>\n",
       "    </tr>\n",
       "    <tr>\n",
       "      <th>19999318</th>\n",
       "      <td>138486</td>\n",
       "      <td>1</td>\n",
       "      <td>5.0</td>\n",
       "      <td>1207075167</td>\n",
       "    </tr>\n",
       "    <tr>\n",
       "      <th>19999573</th>\n",
       "      <td>138488</td>\n",
       "      <td>1</td>\n",
       "      <td>3.0</td>\n",
       "      <td>835386791</td>\n",
       "    </tr>\n",
       "    <tr>\n",
       "      <th>19999786</th>\n",
       "      <td>138491</td>\n",
       "      <td>1</td>\n",
       "      <td>2.0</td>\n",
       "      <td>1247183316</td>\n",
       "    </tr>\n",
       "    <tr>\n",
       "      <th>19999890</th>\n",
       "      <td>138493</td>\n",
       "      <td>1</td>\n",
       "      <td>3.5</td>\n",
       "      <td>1255817134</td>\n",
       "    </tr>\n",
       "  </tbody>\n",
       "</table>\n",
       "<p>49695 rows × 4 columns</p>\n",
       "</div>"
      ],
      "text/plain": [
       "          userId  movieId  rating   timestamp\n",
       "236            3        1     4.0   944919407\n",
       "517            6        1     5.0   858275452\n",
       "817            8        1     4.0   833981871\n",
       "922           10        1     4.0   943497887\n",
       "960           11        1     4.5  1230858821\n",
       "1464          12        1     4.0   859063718\n",
       "1500          13        1     4.0   849082891\n",
       "1562          14        1     4.5  1225311239\n",
       "1854          16        1     3.0   990969772\n",
       "2061          19        1     5.0   855176628\n",
       "2302          22        1     3.0   994638157\n",
       "2435          23        1     4.0   914458411\n",
       "2537          24        1     4.0   994230149\n",
       "3534          31        1     3.0  1424733487\n",
       "3903          34        1     5.0   846509445\n",
       "4305          39        1     5.0   859325696\n",
       "4794          47        1     1.0  1239940397\n",
       "5194          53        1     4.0   938948976\n",
       "5400          54        1     4.0   974840421\n",
       "6343          58        1     5.0  1144058408\n",
       "7000          59        1     4.5  1380400521\n",
       "7477          66        1     4.0   940421847\n",
       "7627          69        1     4.0   866811171\n",
       "8676          80        1     3.0   858458513\n",
       "8724          82        1     5.0  1317331523\n",
       "9031          84        1     5.0   832543433\n",
       "9494          90        1     3.5  1127866527\n",
       "9621          91        1     4.0  1111531562\n",
       "10319         93        1     5.0   835037871\n",
       "10425         96        1     3.5  1366893952\n",
       "...          ...      ...     ...         ...\n",
       "19991410  138424        1     5.0   863351563\n",
       "19991726  138428        1     5.0  1029083968\n",
       "19991918  138430        1     2.0   849702752\n",
       "19991952  138431        1     5.0   846350688\n",
       "19992028  138432        1     4.0   950562547\n",
       "19992383  138436        1     3.5  1346195850\n",
       "19992687  138437        1     4.0  1193454078\n",
       "19993470  138439        1     4.0  1284224655\n",
       "19993593  138441        1     5.0   940208243\n",
       "19993776  138443        1     3.5  1231085297\n",
       "19994065  138445        1     4.0   868182423\n",
       "19994085  138446        1     5.0  1358982680\n",
       "19994230  138448        1     5.0   834499794\n",
       "19994728  138454        1     5.0   993161357\n",
       "19995149  138456        1     1.0  1183781000\n",
       "19995893  138459        1     2.0  1248918002\n",
       "19996364  138464        1     4.0  1024810573\n",
       "19996670  138467        1     4.0   951845624\n",
       "19997120  138471        1     4.5  1355632490\n",
       "19997263  138472        1     3.0  1194039433\n",
       "19997615  138473        1     4.5  1274233803\n",
       "19997705  138474        1     5.0   965928844\n",
       "19998469  138477        1     3.0  1040084810\n",
       "19998769  138480        1     4.0   855148037\n",
       "19998790  138481        1     4.0  1112145561\n",
       "19998860  138483        1     4.0   833831347\n",
       "19999318  138486        1     5.0  1207075167\n",
       "19999573  138488        1     3.0   835386791\n",
       "19999786  138491        1     2.0  1247183316\n",
       "19999890  138493        1     3.5  1255817134\n",
       "\n",
       "[49695 rows x 4 columns]"
      ]
     },
     "execution_count": 12,
     "metadata": {},
     "output_type": "execute_result"
    }
   ],
   "source": [
    "dadosRating.query('movieId == 1')"
   ]
  },
  {
   "cell_type": "code",
   "execution_count": 13,
   "metadata": {},
   "outputs": [
    {
     "data": {
      "text/plain": [
       "3.921239561324077"
      ]
     },
     "execution_count": 13,
     "metadata": {},
     "output_type": "execute_result"
    }
   ],
   "source": [
    "dadosRating.query('movieId == 1')['rating'].mean()"
   ]
  },
  {
   "cell_type": "code",
   "execution_count": 14,
   "metadata": {},
   "outputs": [
    {
     "data": {
      "text/plain": [
       "3.2119768016904193"
      ]
     },
     "execution_count": 14,
     "metadata": {},
     "output_type": "execute_result"
    }
   ],
   "source": [
    "dadosRating.query('movieId == 2')['rating'].mean()"
   ]
  },
  {
   "cell_type": "code",
   "execution_count": 15,
   "metadata": {},
   "outputs": [
    {
     "data": {
      "text/plain": [
       "movieId\n",
       "1    3.921240\n",
       "2    3.211977\n",
       "3    3.151040\n",
       "4    2.861393\n",
       "5    3.064592\n",
       "Name: rating, dtype: float64"
      ]
     },
     "execution_count": 15,
     "metadata": {},
     "output_type": "execute_result"
    }
   ],
   "source": [
    "medias_filmes = dadosRating.groupby('movieId').mean()['rating']\n",
    "medias_filmes.head()"
   ]
  },
  {
   "cell_type": "code",
   "execution_count": 16,
   "metadata": {},
   "outputs": [
    {
     "data": {
      "text/plain": [
       "<matplotlib.axes._subplots.AxesSubplot at 0x1d3826ec208>"
      ]
     },
     "execution_count": 16,
     "metadata": {},
     "output_type": "execute_result"
    },
    {
     "data": {
      "image/png": "[encoded data removed]",
      "text/plain": [
       "<Figure size 432x288 with 1 Axes>"
      ]
     },
     "metadata": {
      "needs_background": "light"
     },
     "output_type": "display_data"
    }
   ],
   "source": [
    "medias_filmes.plot(kind = 'hist')"
   ]
  },
  {
   "cell_type": "code",
   "execution_count": 17,
   "metadata": {},
   "outputs": [
    {
     "data": {
      "text/plain": [
       "<matplotlib.axes._subplots.AxesSubplot at 0x1d3828475f8>"
      ]
     },
     "execution_count": 17,
     "metadata": {},
     "output_type": "execute_result"
    },
    {
     "data": {
      "image/png": "[encoded data removed]",
      "text/plain": [
       "<Figure size 432x288 with 1 Axes>"
      ]
     },
     "metadata": {
      "needs_background": "light"
     },
     "output_type": "display_data"
    }
   ],
   "source": [
    "sbn.boxplot(medias_filmes)"
   ]
  },
  {
   "cell_type": "code",
   "execution_count": 18,
   "metadata": {},
   "outputs": [
    {
     "data": {
      "text/plain": [
       "count    26744.000000\n",
       "mean         3.133200\n",
       "std          0.664084\n",
       "min          0.500000\n",
       "25%          2.800000\n",
       "50%          3.235294\n",
       "75%          3.565217\n",
       "max          5.000000\n",
       "Name: rating, dtype: float64"
      ]
     },
     "execution_count": 18,
     "metadata": {},
     "output_type": "execute_result"
    }
   ],
   "source": [
    "medias_filmes.describe()"
   ]
  },
  {
   "cell_type": "code",
   "execution_count": 19,
   "metadata": {},
   "outputs": [
    {
     "name": "stderr",
     "output_type": "stream",
     "text": [
      "C:\\Users\\Bruna\\Anaconda3\\lib\\site-packages\\scipy\\stats\\stats.py:1713: FutureWarning: Using a non-tuple sequence for multidimensional indexing is deprecated; use `arr[tuple(seq)]` instead of `arr[seq]`. In the future this will be interpreted as an array index, `arr[np.array(seq)]`, which will result either in an error or a different result.\n",
      "  return np.add.reduce(sorted[indexer] * weights, axis=axis) / sumval\n"
     ]
    },
    {
     "data": {
      "text/plain": [
       "<matplotlib.axes._subplots.AxesSubplot at 0x1d3828e9908>"
      ]
     },
     "execution_count": 19,
     "metadata": {},
     "output_type": "execute_result"
    },
    {
     "data": {
      "image/png": "[encoded data removed]",
      "text/plain": [
       "<Figure size 432x288 with 1 Axes>"
      ]
     },
     "metadata": {
      "needs_background": "light"
     },
     "output_type": "display_data"
    }
   ],
   "source": [
    "sbn.distplot(medias_filmes, bins = 10) #bins diz ao seaborn qnts colunas utilizar no grafico"
   ]
  },
  {
   "cell_type": "code",
   "execution_count": 20,
   "metadata": {},
   "outputs": [
    {
     "name": "stdout",
     "output_type": "stream",
     "text": [
      "<class 'pandas.core.frame.DataFrame'>\n",
      "RangeIndex: 27278 entries, 0 to 27277\n",
      "Data columns (total 3 columns):\n",
      "movieId    27278 non-null int64\n",
      "title      27278 non-null object\n",
      "genres     27278 non-null object\n",
      "dtypes: int64(1), object(2)\n",
      "memory usage: 639.4+ KB\n"
     ]
    }
   ],
   "source": [
    "dadosFilmes.info()"
   ]
  },
  {
   "cell_type": "code",
   "execution_count": 21,
   "metadata": {},
   "outputs": [
    {
     "data": {
      "text/html": [
       "<div>\n",
       "<style scoped>\n",
       "    .dataframe tbody tr th:only-of-type {\n",
       "        vertical-align: middle;\n",
       "    }\n",
       "\n",
       "    .dataframe tbody tr th {\n",
       "        vertical-align: top;\n",
       "    }\n",
       "\n",
       "    .dataframe thead th {\n",
       "        text-align: right;\n",
       "    }\n",
       "</style>\n",
       "<table border=\"1\" class=\"dataframe\">\n",
       "  <thead>\n",
       "    <tr style=\"text-align: right;\">\n",
       "      <th></th>\n",
       "      <th>Genero</th>\n",
       "      <th>Total</th>\n",
       "    </tr>\n",
       "  </thead>\n",
       "  <tbody>\n",
       "    <tr>\n",
       "      <th>0</th>\n",
       "      <td>Drama</td>\n",
       "      <td>4520</td>\n",
       "    </tr>\n",
       "    <tr>\n",
       "      <th>1</th>\n",
       "      <td>Comedy</td>\n",
       "      <td>2294</td>\n",
       "    </tr>\n",
       "    <tr>\n",
       "      <th>2</th>\n",
       "      <td>Documentary</td>\n",
       "      <td>1942</td>\n",
       "    </tr>\n",
       "    <tr>\n",
       "      <th>3</th>\n",
       "      <td>Comedy|Drama</td>\n",
       "      <td>1264</td>\n",
       "    </tr>\n",
       "    <tr>\n",
       "      <th>4</th>\n",
       "      <td>Drama|Romance</td>\n",
       "      <td>1075</td>\n",
       "    </tr>\n",
       "  </tbody>\n",
       "</table>\n",
       "</div>"
      ],
      "text/plain": [
       "          Genero  Total\n",
       "0          Drama   4520\n",
       "1         Comedy   2294\n",
       "2    Documentary   1942\n",
       "3   Comedy|Drama   1264\n",
       "4  Drama|Romance   1075"
      ]
     },
     "execution_count": 21,
     "metadata": {},
     "output_type": "execute_result"
    }
   ],
   "source": [
    "#Transformar uma Serie em DataFrame\n",
    "contagem_generos = dadosFilmes['genres'].value_counts().to_frame().reset_index()\n",
    "contagem_generos.columns = ['Genero', 'Total']\n",
    "contagem_generos.head()"
   ]
  },
  {
   "cell_type": "code",
   "execution_count": 22,
   "metadata": {},
   "outputs": [
    {
     "data": {
      "text/plain": [
       "<matplotlib.axes._subplots.AxesSubplot at 0x1d3829cd2b0>"
      ]
     },
     "execution_count": 22,
     "metadata": {},
     "output_type": "execute_result"
    },
    {
     "data": {
      "image/png": "[encoded data removed]",
      "text/plain": [
       "<Figure size 432x288 with 1 Axes>"
      ]
     },
     "metadata": {
      "needs_background": "light"
     },
     "output_type": "display_data"
    }
   ],
   "source": [
    "sbn.barplot(data = contagem_generos[:9], x = 'Genero', y = 'Total')"
   ]
  },
  {
   "cell_type": "code",
   "execution_count": 23,
   "metadata": {},
   "outputs": [
    {
     "name": "stdout",
     "output_type": "stream",
     "text": [
      "0.9.0\n"
     ]
    }
   ],
   "source": [
    "print(sbn.__version__)"
   ]
  },
  {
   "cell_type": "code",
   "execution_count": 24,
   "metadata": {},
   "outputs": [],
   "source": [
    "import matplotlib.pyplot as plt"
   ]
  },
  {
   "cell_type": "code",
   "execution_count": 25,
   "metadata": {},
   "outputs": [
    {
     "data": {
      "text/plain": [
       "([<matplotlib.patches.Wedge at 0x1d382a8f390>,\n",
       "  <matplotlib.patches.Wedge at 0x1d382a8f828>,\n",
       "  <matplotlib.patches.Wedge at 0x1d382a8fcf8>,\n",
       "  <matplotlib.patches.Wedge at 0x1d382a99278>,\n",
       "  <matplotlib.patches.Wedge at 0x1d382a997b8>,\n",
       "  <matplotlib.patches.Wedge at 0x1d382a99cf8>,\n",
       "  <matplotlib.patches.Wedge at 0x1d382aa1278>,\n",
       "  <matplotlib.patches.Wedge at 0x1d382aa17b8>,\n",
       "  <matplotlib.patches.Wedge at 0x1d382aa1cf8>],\n",
       " [Text(0.543321,0.956453,'Drama'),\n",
       "  Text(-0.966301,0.525607,'Comedy'),\n",
       "  Text(-0.97068,-0.517475,'Documentary'),\n",
       "  Text(-0.359863,-1.03947,'Comedy|Drama'),\n",
       "  Text(0.231713,-1.07532,'Drama|Romance'),\n",
       "  Text(0.656486,-0.882625,'Comedy|Romance'),\n",
       "  Text(0.899322,-0.633419,'Comedy|Drama|Romance'),\n",
       "  Text(1.03676,-0.367611,'Horror'),\n",
       "  Text(1.094,-0.114726,'Crime|Drama')])"
      ]
     },
     "execution_count": 25,
     "metadata": {},
     "output_type": "execute_result"
    },
    {
     "data": {
      "image/png": "[encoded data removed]",
      "text/plain": [
       "<Figure size 432x288 with 1 Axes>"
      ]
     },
     "metadata": {},
     "output_type": "display_data"
    }
   ],
   "source": [
    "plt.pie(contagem_generos[:9]['Total'], labels = contagem_generos[:9]['Genero'])"
   ]
  },
  {
   "cell_type": "code",
   "execution_count": 29,
   "metadata": {},
   "outputs": [
    {
     "data": {
      "text/plain": [
       "<matplotlib.axes._subplots.AxesSubplot at 0x1d386118cc0>"
      ]
     },
     "execution_count": 29,
     "metadata": {},
     "output_type": "execute_result"
    },
    {
     "data": {
      "image/png": "[encoded data removed]",
      "text/plain": [
       "<Figure size 1080x360 with 1 Axes>"
      ]
     },
     "metadata": {
      "needs_background": "light"
     },
     "output_type": "display_data"
    }
   ],
   "source": [
    "plt.figure(figsize=(15, 5))\n",
    "sbn.barplot(data = contagem_generos[:15], x = 'Genero', y = 'Total')"
   ]
  },
  {
   "cell_type": "code",
   "execution_count": 30,
   "metadata": {},
   "outputs": [
    {
     "data": {
      "text/html": [
       "<div>\n",
       "<style scoped>\n",
       "    .dataframe tbody tr th:only-of-type {\n",
       "        vertical-align: middle;\n",
       "    }\n",
       "\n",
       "    .dataframe tbody tr th {\n",
       "        vertical-align: top;\n",
       "    }\n",
       "\n",
       "    .dataframe thead th {\n",
       "        text-align: right;\n",
       "    }\n",
       "</style>\n",
       "<table border=\"1\" class=\"dataframe\">\n",
       "  <thead>\n",
       "    <tr style=\"text-align: right;\">\n",
       "      <th></th>\n",
       "      <th>movieId</th>\n",
       "      <th>title</th>\n",
       "      <th>genres</th>\n",
       "    </tr>\n",
       "  </thead>\n",
       "  <tbody>\n",
       "    <tr>\n",
       "      <th>0</th>\n",
       "      <td>1</td>\n",
       "      <td>Toy Story (1995)</td>\n",
       "      <td>Adventure|Animation|Children|Comedy|Fantasy</td>\n",
       "    </tr>\n",
       "    <tr>\n",
       "      <th>1</th>\n",
       "      <td>2</td>\n",
       "      <td>Jumanji (1995)</td>\n",
       "      <td>Adventure|Children|Fantasy</td>\n",
       "    </tr>\n",
       "  </tbody>\n",
       "</table>\n",
       "</div>"
      ],
      "text/plain": [
       "   movieId             title                                       genres\n",
       "0        1  Toy Story (1995)  Adventure|Animation|Children|Comedy|Fantasy\n",
       "1        2    Jumanji (1995)                   Adventure|Children|Fantasy"
      ]
     },
     "execution_count": 30,
     "metadata": {},
     "output_type": "execute_result"
    }
   ],
   "source": [
    "dadosFilmes.head(2)"
   ]
  },
  {
   "cell_type": "code",
   "execution_count": 32,
   "metadata": {},
   "outputs": [],
   "source": [
    "notasToyStory = dadosRating.query('movieId == 1')\n",
    "notasJumanji = dadosRating.query('movieId == 2')"
   ]
  },
  {
   "cell_type": "code",
   "execution_count": 35,
   "metadata": {},
   "outputs": [
    {
     "name": "stdout",
     "output_type": "stream",
     "text": [
      "Notas ToyStory: 49695\n",
      "Notas Jumanji: 22243\n"
     ]
    }
   ],
   "source": [
    "print('Notas ToyStory: {}'.format(notasToyStory.shape[0]))\n",
    "print('Notas Jumanji: {}'.format(notasJumanji.shape[0]))"
   ]
  },
  {
   "cell_type": "code",
   "execution_count": 36,
   "metadata": {},
   "outputs": [
    {
     "name": "stdout",
     "output_type": "stream",
     "text": [
      "Notas ToyStory: 3.921239561324077\n",
      "Notas Jumanji: 3.2119768016904193\n"
     ]
    }
   ],
   "source": [
    "#Media\n",
    "print('Notas Media ToyStory: {}'.format(notasToyStory['rating'].mean()))\n",
    "print('Notas Media Jumanji: {}'.format(notasJumanji['rating'].mean()))"
   ]
  },
  {
   "cell_type": "code",
   "execution_count": 37,
   "metadata": {},
   "outputs": [
    {
     "name": "stdout",
     "output_type": "stream",
     "text": [
      "Notas ToyStory: 4.0\n",
      "Notas Jumanji: 3.0\n"
     ]
    }
   ],
   "source": [
    "#Mediana\n",
    "print('Notas Mediana ToyStory: {}'.format(notasToyStory['rating'].median()))\n",
    "print('Notas Mediana Jumanji: {}'.format(notasJumanji['rating'].median()))"
   ]
  },
  {
   "cell_type": "code",
   "execution_count": 45,
   "metadata": {},
   "outputs": [
    {
     "data": {
      "text/plain": [
       "<matplotlib.axes._subplots.AxesSubplot at 0x1d386b6d128>"
      ]
     },
     "execution_count": 45,
     "metadata": {},
     "output_type": "execute_result"
    },
    {
     "data": {
      "image/png": "[encoded data removed]",
      "text/plain": [
       "<Figure size 432x288 with 1 Axes>"
      ]
     },
     "metadata": {
      "needs_background": "light"
     },
     "output_type": "display_data"
    }
   ],
   "source": [
    "sbn.boxplot(notasToyStory['rating'])"
   ]
  },
  {
   "cell_type": "code",
   "execution_count": 46,
   "metadata": {},
   "outputs": [
    {
     "data": {
      "text/plain": [
       "<matplotlib.axes._subplots.AxesSubplot at 0x1d386bbba90>"
      ]
     },
     "execution_count": 46,
     "metadata": {},
     "output_type": "execute_result"
    },
    {
     "data": {
      "image/png": "[encoded data removed]",
      "text/plain": [
       "<Figure size 432x288 with 1 Axes>"
      ]
     },
     "metadata": {
      "needs_background": "light"
     },
     "output_type": "display_data"
    }
   ],
   "source": [
    "sbn.boxplot(notasJumanji['rating'])"
   ]
  },
  {
   "cell_type": "code",
   "execution_count": null,
   "metadata": {},
   "outputs": [],
   "source": []
  }
 ],
 "metadata": {
  "kernelspec": {
   "display_name": "Python 3",
   "language": "python",
   "name": "python3"
  },
  "language_info": {
   "codemirror_mode": {
    "name": "ipython",
    "version": 3
   },
   "file_extension": ".py",
   "mimetype": "text/x-python",
   "name": "python",
   "nbconvert_exporter": "python",
   "pygments_lexer": "ipython3",
   "version": "3.7.0"
  }
 },
 "nbformat": 4,
 "nbformat_minor": 2
}
